{
  "nbformat": 4,
  "nbformat_minor": 0,
  "metadata": {
    "accelerator": "GPU",
    "colab": {
      "name": "C3_W4_Assignment_Solution.ipynb",
      "provenance": [],
      "collapsed_sections": []
    },
    "kernelspec": {
      "name": "python3",
      "display_name": "Python 3"
    },
    "language_info": {
      "name": "python"
    }
  },
  "cells": [
    {
      "cell_type": "code",
      "metadata": {
        "id": "zX4Kg8DUTKWO"
      },
      "source": [
        "#@title Licensed under the Apache License, Version 2.0 (the \"License\");\n",
        "# you may not use this file except in compliance with the License.\n",
        "# You may obtain a copy of the License at\n",
        "#\n",
        "# https://www.apache.org/licenses/LICENSE-2.0\n",
        "#\n",
        "# Unless required by applicable law or agreed to in writing, software\n",
        "# distributed under the License is distributed on an \"AS IS\" BASIS,\n",
        "# WITHOUT WARRANTIES OR CONDITIONS OF ANY KIND, either express or implied.\n",
        "# See the License for the specific language governing permissions and\n",
        "# limitations under the License."
      ],
      "execution_count": 1,
      "outputs": []
    },
    {
      "cell_type": "markdown",
      "metadata": {
        "id": "NeQByOlMmtn8"
      },
      "source": [
        "**Note:** This notebook can run using TensorFlow 2.5.0"
      ]
    },
    {
      "cell_type": "code",
      "metadata": {
        "id": "QtWdoQT_mtn8",
        "outputId": "008a0286-1920-472b-df1e-a29c754537e8",
        "colab": {
          "base_uri": "https://localhost:8080/"
        }
      },
      "source": [
        "!pip install tensorflow==2.5.0"
      ],
      "execution_count": 2,
      "outputs": [
        {
          "output_type": "stream",
          "name": "stdout",
          "text": [
            "Collecting tensorflow==2.5.0\n",
            "  Downloading tensorflow-2.5.0-cp37-cp37m-manylinux2010_x86_64.whl (454.3 MB)\n",
            "\u001b[K     |████████████████████████████████| 454.3 MB 18 kB/s \n",
            "\u001b[?25hCollecting keras-nightly~=2.5.0.dev\n",
            "  Downloading keras_nightly-2.5.0.dev2021032900-py2.py3-none-any.whl (1.2 MB)\n",
            "\u001b[K     |████████████████████████████████| 1.2 MB 33.8 MB/s \n",
            "\u001b[?25hRequirement already satisfied: wrapt~=1.12.1 in /usr/local/lib/python3.7/dist-packages (from tensorflow==2.5.0) (1.12.1)\n",
            "Collecting grpcio~=1.34.0\n",
            "  Downloading grpcio-1.34.1-cp37-cp37m-manylinux2014_x86_64.whl (4.0 MB)\n",
            "\u001b[K     |████████████████████████████████| 4.0 MB 34.6 MB/s \n",
            "\u001b[?25hRequirement already satisfied: termcolor~=1.1.0 in /usr/local/lib/python3.7/dist-packages (from tensorflow==2.5.0) (1.1.0)\n",
            "Requirement already satisfied: astunparse~=1.6.3 in /usr/local/lib/python3.7/dist-packages (from tensorflow==2.5.0) (1.6.3)\n",
            "Requirement already satisfied: absl-py~=0.10 in /usr/local/lib/python3.7/dist-packages (from tensorflow==2.5.0) (0.12.0)\n",
            "Requirement already satisfied: numpy~=1.19.2 in /usr/local/lib/python3.7/dist-packages (from tensorflow==2.5.0) (1.19.5)\n",
            "Requirement already satisfied: opt-einsum~=3.3.0 in /usr/local/lib/python3.7/dist-packages (from tensorflow==2.5.0) (3.3.0)\n",
            "Requirement already satisfied: gast==0.4.0 in /usr/local/lib/python3.7/dist-packages (from tensorflow==2.5.0) (0.4.0)\n",
            "Requirement already satisfied: protobuf>=3.9.2 in /usr/local/lib/python3.7/dist-packages (from tensorflow==2.5.0) (3.17.3)\n",
            "Requirement already satisfied: tensorboard~=2.5 in /usr/local/lib/python3.7/dist-packages (from tensorflow==2.5.0) (2.6.0)\n",
            "Collecting tensorflow-estimator<2.6.0,>=2.5.0rc0\n",
            "  Downloading tensorflow_estimator-2.5.0-py2.py3-none-any.whl (462 kB)\n",
            "\u001b[K     |████████████████████████████████| 462 kB 37.7 MB/s \n",
            "\u001b[?25hRequirement already satisfied: keras-preprocessing~=1.1.2 in /usr/local/lib/python3.7/dist-packages (from tensorflow==2.5.0) (1.1.2)\n",
            "Requirement already satisfied: google-pasta~=0.2 in /usr/local/lib/python3.7/dist-packages (from tensorflow==2.5.0) (0.2.0)\n",
            "Requirement already satisfied: flatbuffers~=1.12.0 in /usr/local/lib/python3.7/dist-packages (from tensorflow==2.5.0) (1.12)\n",
            "Requirement already satisfied: six~=1.15.0 in /usr/local/lib/python3.7/dist-packages (from tensorflow==2.5.0) (1.15.0)\n",
            "Requirement already satisfied: h5py~=3.1.0 in /usr/local/lib/python3.7/dist-packages (from tensorflow==2.5.0) (3.1.0)\n",
            "Requirement already satisfied: wheel~=0.35 in /usr/local/lib/python3.7/dist-packages (from tensorflow==2.5.0) (0.37.0)\n",
            "Requirement already satisfied: typing-extensions~=3.7.4 in /usr/local/lib/python3.7/dist-packages (from tensorflow==2.5.0) (3.7.4.3)\n",
            "Requirement already satisfied: cached-property in /usr/local/lib/python3.7/dist-packages (from h5py~=3.1.0->tensorflow==2.5.0) (1.5.2)\n",
            "Requirement already satisfied: tensorboard-plugin-wit>=1.6.0 in /usr/local/lib/python3.7/dist-packages (from tensorboard~=2.5->tensorflow==2.5.0) (1.8.0)\n",
            "Requirement already satisfied: setuptools>=41.0.0 in /usr/local/lib/python3.7/dist-packages (from tensorboard~=2.5->tensorflow==2.5.0) (57.4.0)\n",
            "Requirement already satisfied: google-auth-oauthlib<0.5,>=0.4.1 in /usr/local/lib/python3.7/dist-packages (from tensorboard~=2.5->tensorflow==2.5.0) (0.4.5)\n",
            "Requirement already satisfied: google-auth<2,>=1.6.3 in /usr/local/lib/python3.7/dist-packages (from tensorboard~=2.5->tensorflow==2.5.0) (1.34.0)\n",
            "Requirement already satisfied: requests<3,>=2.21.0 in /usr/local/lib/python3.7/dist-packages (from tensorboard~=2.5->tensorflow==2.5.0) (2.23.0)\n",
            "Requirement already satisfied: markdown>=2.6.8 in /usr/local/lib/python3.7/dist-packages (from tensorboard~=2.5->tensorflow==2.5.0) (3.3.4)\n",
            "Requirement already satisfied: tensorboard-data-server<0.7.0,>=0.6.0 in /usr/local/lib/python3.7/dist-packages (from tensorboard~=2.5->tensorflow==2.5.0) (0.6.1)\n",
            "Requirement already satisfied: werkzeug>=0.11.15 in /usr/local/lib/python3.7/dist-packages (from tensorboard~=2.5->tensorflow==2.5.0) (1.0.1)\n",
            "Requirement already satisfied: pyasn1-modules>=0.2.1 in /usr/local/lib/python3.7/dist-packages (from google-auth<2,>=1.6.3->tensorboard~=2.5->tensorflow==2.5.0) (0.2.8)\n",
            "Requirement already satisfied: rsa<5,>=3.1.4 in /usr/local/lib/python3.7/dist-packages (from google-auth<2,>=1.6.3->tensorboard~=2.5->tensorflow==2.5.0) (4.7.2)\n",
            "Requirement already satisfied: cachetools<5.0,>=2.0.0 in /usr/local/lib/python3.7/dist-packages (from google-auth<2,>=1.6.3->tensorboard~=2.5->tensorflow==2.5.0) (4.2.2)\n",
            "Requirement already satisfied: requests-oauthlib>=0.7.0 in /usr/local/lib/python3.7/dist-packages (from google-auth-oauthlib<0.5,>=0.4.1->tensorboard~=2.5->tensorflow==2.5.0) (1.3.0)\n",
            "Requirement already satisfied: importlib-metadata in /usr/local/lib/python3.7/dist-packages (from markdown>=2.6.8->tensorboard~=2.5->tensorflow==2.5.0) (4.6.4)\n",
            "Requirement already satisfied: pyasn1<0.5.0,>=0.4.6 in /usr/local/lib/python3.7/dist-packages (from pyasn1-modules>=0.2.1->google-auth<2,>=1.6.3->tensorboard~=2.5->tensorflow==2.5.0) (0.4.8)\n",
            "Requirement already satisfied: chardet<4,>=3.0.2 in /usr/local/lib/python3.7/dist-packages (from requests<3,>=2.21.0->tensorboard~=2.5->tensorflow==2.5.0) (3.0.4)\n",
            "Requirement already satisfied: idna<3,>=2.5 in /usr/local/lib/python3.7/dist-packages (from requests<3,>=2.21.0->tensorboard~=2.5->tensorflow==2.5.0) (2.10)\n",
            "Requirement already satisfied: certifi>=2017.4.17 in /usr/local/lib/python3.7/dist-packages (from requests<3,>=2.21.0->tensorboard~=2.5->tensorflow==2.5.0) (2021.5.30)\n",
            "Requirement already satisfied: urllib3!=1.25.0,!=1.25.1,<1.26,>=1.21.1 in /usr/local/lib/python3.7/dist-packages (from requests<3,>=2.21.0->tensorboard~=2.5->tensorflow==2.5.0) (1.24.3)\n",
            "Requirement already satisfied: oauthlib>=3.0.0 in /usr/local/lib/python3.7/dist-packages (from requests-oauthlib>=0.7.0->google-auth-oauthlib<0.5,>=0.4.1->tensorboard~=2.5->tensorflow==2.5.0) (3.1.1)\n",
            "Requirement already satisfied: zipp>=0.5 in /usr/local/lib/python3.7/dist-packages (from importlib-metadata->markdown>=2.6.8->tensorboard~=2.5->tensorflow==2.5.0) (3.5.0)\n",
            "Installing collected packages: grpcio, tensorflow-estimator, keras-nightly, tensorflow\n",
            "  Attempting uninstall: grpcio\n",
            "    Found existing installation: grpcio 1.39.0\n",
            "    Uninstalling grpcio-1.39.0:\n",
            "      Successfully uninstalled grpcio-1.39.0\n",
            "  Attempting uninstall: tensorflow-estimator\n",
            "    Found existing installation: tensorflow-estimator 2.6.0\n",
            "    Uninstalling tensorflow-estimator-2.6.0:\n",
            "      Successfully uninstalled tensorflow-estimator-2.6.0\n",
            "  Attempting uninstall: tensorflow\n",
            "    Found existing installation: tensorflow 2.6.0\n",
            "    Uninstalling tensorflow-2.6.0:\n",
            "      Successfully uninstalled tensorflow-2.6.0\n",
            "Successfully installed grpcio-1.34.1 keras-nightly-2.5.0.dev2021032900 tensorflow-2.5.0 tensorflow-estimator-2.5.0\n"
          ]
        }
      ]
    },
    {
      "cell_type": "code",
      "metadata": {
        "id": "BOwsuGQQY9OL"
      },
      "source": [
        "from tensorflow.keras.preprocessing.sequence import pad_sequences\n",
        "from tensorflow.keras.layers import Embedding, LSTM, Dense, Dropout, Bidirectional\n",
        "from tensorflow.keras.preprocessing.text import Tokenizer\n",
        "from tensorflow.keras.models import Sequential\n",
        "from tensorflow.keras.optimizers import Adam\n",
        "from tensorflow.keras import regularizers\n",
        "import tensorflow.keras.utils as ku \n",
        "import numpy as np "
      ],
      "execution_count": 3,
      "outputs": []
    },
    {
      "cell_type": "code",
      "metadata": {
        "id": "PRnDnCW-Z7qv",
        "outputId": "5b2be489-b053-4f3b-c7d6-469e1cb043f6",
        "colab": {
          "base_uri": "https://localhost:8080/"
        }
      },
      "source": [
        "tokenizer = Tokenizer()\n",
        "\n",
        "# sonnets.txt\n",
        "!gdown --id 108jAePKK4R3BVYBbYJZ32JWUwxeMg20K\n",
        "\n",
        "data = open('./sonnets.txt').read()\n",
        "\n",
        "corpus = data.lower().split(\"\\n\")\n",
        "\n",
        "\n",
        "tokenizer.fit_on_texts(corpus)\n",
        "total_words = len(tokenizer.word_index) + 1\n",
        "\n",
        "# create input sequences using list of tokens\n",
        "input_sequences = []\n",
        "for line in corpus:\n",
        "\ttoken_list = tokenizer.texts_to_sequences([line])[0]\n",
        "\tfor i in range(1, len(token_list)):\n",
        "\t\tn_gram_sequence = token_list[:i+1]\n",
        "\t\tinput_sequences.append(n_gram_sequence)\n",
        "\n",
        "\n",
        "# pad sequences \n",
        "max_sequence_len = max([len(x) for x in input_sequences])\n",
        "input_sequences = np.array(pad_sequences(input_sequences, maxlen=max_sequence_len, padding='pre'))\n",
        "\n",
        "# create predictors and label\n",
        "predictors, label = input_sequences[:,:-1],input_sequences[:,-1]\n",
        "\n",
        "label = ku.to_categorical(label, num_classes=total_words)"
      ],
      "execution_count": 4,
      "outputs": [
        {
          "output_type": "stream",
          "name": "stdout",
          "text": [
            "Downloading...\n",
            "From: https://drive.google.com/uc?id=108jAePKK4R3BVYBbYJZ32JWUwxeMg20K\n",
            "To: /content/sonnets.txt\n",
            "\r  0% 0.00/93.6k [00:00<?, ?B/s]\r100% 93.6k/93.6k [00:00<00:00, 29.1MB/s]\n"
          ]
        }
      ]
    },
    {
      "cell_type": "code",
      "metadata": {
        "id": "w9vH8Y59ajYL",
        "outputId": "208cbc85-b223-40db-8e20-e9ba00a10a08",
        "colab": {
          "base_uri": "https://localhost:8080/"
        }
      },
      "source": [
        "### START CODE HERE\n",
        "model = Sequential()\n",
        "model.add(Embedding(total_words, 100, input_length=max_sequence_len-1))# Your Embedding Layer)\n",
        "model.add(Bidirectional(LSTM(150, return_sequences = True)))# An LSTM Layer)\n",
        "model.add(Dropout(0.2))# A dropout layer)\n",
        "model.add(LSTM(100))# Another LSTM Layer)\n",
        "model.add(Dense(total_words/2, activation='relu', kernel_regularizer=regularizers.l2(0.01)))# A Dense Layer including regularizers)\n",
        "model.add(Dense(total_words, activation='softmax'))# A Dense Layer)\n",
        "# Pick an optimizer\n",
        "model.compile(loss='categorical_crossentropy', optimizer='adam', metrics=['accuracy'])# Pick a loss function and an optimizer)\n",
        "### END CODE HERE\n",
        "\n",
        "print(model.summary())"
      ],
      "execution_count": 5,
      "outputs": [
        {
          "output_type": "stream",
          "name": "stdout",
          "text": [
            "Model: \"sequential\"\n",
            "_________________________________________________________________\n",
            "Layer (type)                 Output Shape              Param #   \n",
            "=================================================================\n",
            "embedding (Embedding)        (None, 10, 100)           321100    \n",
            "_________________________________________________________________\n",
            "bidirectional (Bidirectional (None, 10, 300)           301200    \n",
            "_________________________________________________________________\n",
            "dropout (Dropout)            (None, 10, 300)           0         \n",
            "_________________________________________________________________\n",
            "lstm_1 (LSTM)                (None, 100)               160400    \n",
            "_________________________________________________________________\n",
            "dense (Dense)                (None, 1605)              162105    \n",
            "_________________________________________________________________\n",
            "dense_1 (Dense)              (None, 3211)              5156866   \n",
            "=================================================================\n",
            "Total params: 6,101,671\n",
            "Trainable params: 6,101,671\n",
            "Non-trainable params: 0\n",
            "_________________________________________________________________\n",
            "None\n"
          ]
        }
      ]
    },
    {
      "cell_type": "code",
      "metadata": {
        "id": "AIg2f1HBxqof",
        "outputId": "f346a2ef-6264-4bdf-a9ab-e1bf6cd3e2e3",
        "colab": {
          "base_uri": "https://localhost:8080/"
        }
      },
      "source": [
        " history = model.fit(predictors, label, epochs=100, verbose=1)"
      ],
      "execution_count": 6,
      "outputs": [
        {
          "output_type": "stream",
          "name": "stdout",
          "text": [
            "Epoch 1/100\n",
            "484/484 [==============================] - 63s 120ms/step - loss: 6.9083 - accuracy: 0.0239\n",
            "Epoch 2/100\n",
            "484/484 [==============================] - 58s 119ms/step - loss: 6.5013 - accuracy: 0.0246\n",
            "Epoch 3/100\n",
            "484/484 [==============================] - 57s 118ms/step - loss: 6.3927 - accuracy: 0.0252\n",
            "Epoch 4/100\n",
            "484/484 [==============================] - 57s 118ms/step - loss: 6.2682 - accuracy: 0.0288\n",
            "Epoch 5/100\n",
            "484/484 [==============================] - 57s 119ms/step - loss: 6.1821 - accuracy: 0.0348\n",
            "Epoch 6/100\n",
            "484/484 [==============================] - 57s 119ms/step - loss: 6.1027 - accuracy: 0.0383\n",
            "Epoch 7/100\n",
            "484/484 [==============================] - 57s 119ms/step - loss: 6.0293 - accuracy: 0.0402\n",
            "Epoch 8/100\n",
            "484/484 [==============================] - 57s 118ms/step - loss: 5.9485 - accuracy: 0.0451\n",
            "Epoch 9/100\n",
            "484/484 [==============================] - 58s 119ms/step - loss: 5.8588 - accuracy: 0.0488\n",
            "Epoch 10/100\n",
            "484/484 [==============================] - 59s 122ms/step - loss: 5.7614 - accuracy: 0.0552\n",
            "Epoch 11/100\n",
            "484/484 [==============================] - 58s 120ms/step - loss: 5.6539 - accuracy: 0.0594\n",
            "Epoch 12/100\n",
            "484/484 [==============================] - 57s 118ms/step - loss: 5.5488 - accuracy: 0.0655\n",
            "Epoch 13/100\n",
            "484/484 [==============================] - 57s 118ms/step - loss: 5.4450 - accuracy: 0.0730\n",
            "Epoch 14/100\n",
            "484/484 [==============================] - 57s 118ms/step - loss: 5.3477 - accuracy: 0.0788\n",
            "Epoch 15/100\n",
            "484/484 [==============================] - 57s 117ms/step - loss: 5.2442 - accuracy: 0.0836\n",
            "Epoch 16/100\n",
            "484/484 [==============================] - 57s 117ms/step - loss: 5.1445 - accuracy: 0.0903\n",
            "Epoch 17/100\n",
            "484/484 [==============================] - 57s 117ms/step - loss: 5.0418 - accuracy: 0.0957\n",
            "Epoch 18/100\n",
            "484/484 [==============================] - 58s 120ms/step - loss: 4.9448 - accuracy: 0.1043\n",
            "Epoch 19/100\n",
            "484/484 [==============================] - 58s 120ms/step - loss: 4.8470 - accuracy: 0.1113\n",
            "Epoch 20/100\n",
            "484/484 [==============================] - 56s 116ms/step - loss: 4.7457 - accuracy: 0.1176\n",
            "Epoch 21/100\n",
            "484/484 [==============================] - 56s 116ms/step - loss: 4.6457 - accuracy: 0.1260\n",
            "Epoch 22/100\n",
            "484/484 [==============================] - 56s 115ms/step - loss: 4.5486 - accuracy: 0.1377\n",
            "Epoch 23/100\n",
            "484/484 [==============================] - 56s 115ms/step - loss: 4.4407 - accuracy: 0.1484\n",
            "Epoch 24/100\n",
            "484/484 [==============================] - 55s 115ms/step - loss: 4.3478 - accuracy: 0.1600\n",
            "Epoch 25/100\n",
            "484/484 [==============================] - 55s 114ms/step - loss: 4.2435 - accuracy: 0.1742\n",
            "Epoch 26/100\n",
            "484/484 [==============================] - 56s 116ms/step - loss: 4.1399 - accuracy: 0.1845\n",
            "Epoch 27/100\n",
            "484/484 [==============================] - 56s 115ms/step - loss: 4.0497 - accuracy: 0.2006\n",
            "Epoch 28/100\n",
            "484/484 [==============================] - 55s 114ms/step - loss: 3.9503 - accuracy: 0.2135\n",
            "Epoch 29/100\n",
            "484/484 [==============================] - 55s 114ms/step - loss: 3.8478 - accuracy: 0.2319\n",
            "Epoch 30/100\n",
            "484/484 [==============================] - 56s 115ms/step - loss: 3.7565 - accuracy: 0.2508\n",
            "Epoch 31/100\n",
            "484/484 [==============================] - 56s 115ms/step - loss: 3.6685 - accuracy: 0.2680\n",
            "Epoch 32/100\n",
            "484/484 [==============================] - 56s 115ms/step - loss: 3.5778 - accuracy: 0.2859\n",
            "Epoch 33/100\n",
            "484/484 [==============================] - 57s 119ms/step - loss: 3.4939 - accuracy: 0.3028\n",
            "Epoch 34/100\n",
            "484/484 [==============================] - 57s 118ms/step - loss: 3.4074 - accuracy: 0.3176\n",
            "Epoch 35/100\n",
            "484/484 [==============================] - 56s 115ms/step - loss: 3.3191 - accuracy: 0.3370\n",
            "Epoch 36/100\n",
            "484/484 [==============================] - 55s 113ms/step - loss: 3.2485 - accuracy: 0.3582\n",
            "Epoch 37/100\n",
            "484/484 [==============================] - 56s 115ms/step - loss: 3.1658 - accuracy: 0.3725\n",
            "Epoch 38/100\n",
            "484/484 [==============================] - 55s 114ms/step - loss: 3.0936 - accuracy: 0.3908\n",
            "Epoch 39/100\n",
            "484/484 [==============================] - 54s 111ms/step - loss: 3.0164 - accuracy: 0.4079\n",
            "Epoch 40/100\n",
            "484/484 [==============================] - 55s 114ms/step - loss: 2.9554 - accuracy: 0.4197\n",
            "Epoch 41/100\n",
            "484/484 [==============================] - 56s 116ms/step - loss: 2.8879 - accuracy: 0.4352\n",
            "Epoch 42/100\n",
            "484/484 [==============================] - 57s 117ms/step - loss: 2.8325 - accuracy: 0.4479\n",
            "Epoch 43/100\n",
            "484/484 [==============================] - 55s 114ms/step - loss: 2.7506 - accuracy: 0.4689\n",
            "Epoch 44/100\n",
            "484/484 [==============================] - 55s 115ms/step - loss: 2.6888 - accuracy: 0.4818\n",
            "Epoch 45/100\n",
            "484/484 [==============================] - 55s 113ms/step - loss: 2.6363 - accuracy: 0.4950\n",
            "Epoch 46/100\n",
            "484/484 [==============================] - 54s 112ms/step - loss: 2.5732 - accuracy: 0.5079\n",
            "Epoch 47/100\n",
            "484/484 [==============================] - 56s 115ms/step - loss: 2.5209 - accuracy: 0.5167\n",
            "Epoch 48/100\n",
            "484/484 [==============================] - 60s 124ms/step - loss: 2.4755 - accuracy: 0.5310\n",
            "Epoch 49/100\n",
            "484/484 [==============================] - 58s 120ms/step - loss: 2.4126 - accuracy: 0.5435\n",
            "Epoch 50/100\n",
            "484/484 [==============================] - 57s 118ms/step - loss: 2.3702 - accuracy: 0.5523\n",
            "Epoch 51/100\n",
            "484/484 [==============================] - 58s 120ms/step - loss: 2.3242 - accuracy: 0.5631\n",
            "Epoch 52/100\n",
            "484/484 [==============================] - 59s 122ms/step - loss: 2.2626 - accuracy: 0.5768\n",
            "Epoch 53/100\n",
            "484/484 [==============================] - 58s 121ms/step - loss: 2.2219 - accuracy: 0.5904\n",
            "Epoch 54/100\n",
            "484/484 [==============================] - 58s 120ms/step - loss: 2.1866 - accuracy: 0.5949\n",
            "Epoch 55/100\n",
            "484/484 [==============================] - 58s 120ms/step - loss: 2.1502 - accuracy: 0.6023\n",
            "Epoch 56/100\n",
            "484/484 [==============================] - 58s 121ms/step - loss: 2.1110 - accuracy: 0.6092\n",
            "Epoch 57/100\n",
            "484/484 [==============================] - 59s 121ms/step - loss: 2.0614 - accuracy: 0.6264\n",
            "Epoch 58/100\n",
            "484/484 [==============================] - 58s 120ms/step - loss: 2.0223 - accuracy: 0.6352\n",
            "Epoch 59/100\n",
            "484/484 [==============================] - 59s 121ms/step - loss: 1.9835 - accuracy: 0.6413\n",
            "Epoch 60/100\n",
            "484/484 [==============================] - 61s 125ms/step - loss: 1.9531 - accuracy: 0.6451\n",
            "Epoch 61/100\n",
            "484/484 [==============================] - 62s 128ms/step - loss: 1.9178 - accuracy: 0.6513\n",
            "Epoch 62/100\n",
            "484/484 [==============================] - 61s 126ms/step - loss: 1.8876 - accuracy: 0.6558\n",
            "Epoch 63/100\n",
            "484/484 [==============================] - 61s 126ms/step - loss: 1.8576 - accuracy: 0.6661\n",
            "Epoch 64/100\n",
            "484/484 [==============================] - 61s 126ms/step - loss: 1.8202 - accuracy: 0.6742\n",
            "Epoch 65/100\n",
            "484/484 [==============================] - 61s 126ms/step - loss: 1.7979 - accuracy: 0.6780\n",
            "Epoch 66/100\n",
            "484/484 [==============================] - 61s 126ms/step - loss: 1.7733 - accuracy: 0.6867\n",
            "Epoch 67/100\n",
            "484/484 [==============================] - 62s 127ms/step - loss: 1.7455 - accuracy: 0.6884\n",
            "Epoch 68/100\n",
            "484/484 [==============================] - 62s 128ms/step - loss: 1.6955 - accuracy: 0.7011\n",
            "Epoch 69/100\n",
            "484/484 [==============================] - 62s 129ms/step - loss: 1.6733 - accuracy: 0.7097\n",
            "Epoch 70/100\n",
            "484/484 [==============================] - 60s 125ms/step - loss: 1.6603 - accuracy: 0.7075\n",
            "Epoch 71/100\n",
            "484/484 [==============================] - 60s 124ms/step - loss: 1.6391 - accuracy: 0.7068\n",
            "Epoch 72/100\n",
            "484/484 [==============================] - 60s 125ms/step - loss: 1.5997 - accuracy: 0.7192\n",
            "Epoch 73/100\n",
            "484/484 [==============================] - 61s 126ms/step - loss: 1.5858 - accuracy: 0.7225\n",
            "Epoch 74/100\n",
            "484/484 [==============================] - 60s 125ms/step - loss: 1.5545 - accuracy: 0.7271\n",
            "Epoch 75/100\n",
            "484/484 [==============================] - 60s 124ms/step - loss: 1.5347 - accuracy: 0.7333\n",
            "Epoch 76/100\n",
            "484/484 [==============================] - 60s 125ms/step - loss: 1.5268 - accuracy: 0.7317\n",
            "Epoch 77/100\n",
            "484/484 [==============================] - 59s 122ms/step - loss: 1.5032 - accuracy: 0.7401\n",
            "Epoch 78/100\n",
            "484/484 [==============================] - 59s 122ms/step - loss: 1.4943 - accuracy: 0.7379\n",
            "Epoch 79/100\n",
            "484/484 [==============================] - 59s 122ms/step - loss: 1.4650 - accuracy: 0.7458\n",
            "Epoch 80/100\n",
            "484/484 [==============================] - 59s 122ms/step - loss: 1.4511 - accuracy: 0.7504\n",
            "Epoch 81/100\n",
            "484/484 [==============================] - 59s 123ms/step - loss: 1.4334 - accuracy: 0.7517\n",
            "Epoch 82/100\n",
            "484/484 [==============================] - 61s 126ms/step - loss: 1.4025 - accuracy: 0.7560\n",
            "Epoch 83/100\n",
            "484/484 [==============================] - 61s 125ms/step - loss: 1.3963 - accuracy: 0.7569\n",
            "Epoch 84/100\n",
            "484/484 [==============================] - 60s 125ms/step - loss: 1.3704 - accuracy: 0.7640\n",
            "Epoch 85/100\n",
            "484/484 [==============================] - 61s 125ms/step - loss: 1.3637 - accuracy: 0.7617\n",
            "Epoch 86/100\n",
            "484/484 [==============================] - 60s 125ms/step - loss: 1.3455 - accuracy: 0.7687\n",
            "Epoch 87/100\n",
            "484/484 [==============================] - 60s 124ms/step - loss: 1.3396 - accuracy: 0.7688\n",
            "Epoch 88/100\n",
            "484/484 [==============================] - 60s 124ms/step - loss: 1.3279 - accuracy: 0.7692\n",
            "Epoch 89/100\n",
            "484/484 [==============================] - 60s 125ms/step - loss: 1.3089 - accuracy: 0.7763\n",
            "Epoch 90/100\n",
            "484/484 [==============================] - 61s 125ms/step - loss: 1.2869 - accuracy: 0.7788\n",
            "Epoch 91/100\n",
            "484/484 [==============================] - 60s 125ms/step - loss: 1.2754 - accuracy: 0.7791\n",
            "Epoch 92/100\n",
            "484/484 [==============================] - 61s 125ms/step - loss: 1.2608 - accuracy: 0.7815\n",
            "Epoch 93/100\n",
            "484/484 [==============================] - 61s 125ms/step - loss: 1.2443 - accuracy: 0.7868\n",
            "Epoch 94/100\n",
            "484/484 [==============================] - 61s 126ms/step - loss: 1.2497 - accuracy: 0.7832\n",
            "Epoch 95/100\n",
            "484/484 [==============================] - 61s 126ms/step - loss: 1.2353 - accuracy: 0.7840\n",
            "Epoch 96/100\n",
            "484/484 [==============================] - 61s 126ms/step - loss: 1.2295 - accuracy: 0.7839\n",
            "Epoch 97/100\n",
            "484/484 [==============================] - 61s 126ms/step - loss: 1.2054 - accuracy: 0.7901\n",
            "Epoch 98/100\n",
            "484/484 [==============================] - 61s 126ms/step - loss: 1.2078 - accuracy: 0.7885\n",
            "Epoch 99/100\n",
            "484/484 [==============================] - 61s 126ms/step - loss: 1.1802 - accuracy: 0.7941\n",
            "Epoch 100/100\n",
            "484/484 [==============================] - 59s 122ms/step - loss: 1.1757 - accuracy: 0.7962\n"
          ]
        }
      ]
    },
    {
      "cell_type": "code",
      "metadata": {
        "id": "1fXTEO3GJ282",
        "outputId": "d70df002-70d6-4edc-a974-0dadf984d2eb",
        "colab": {
          "base_uri": "https://localhost:8080/",
          "height": 545
        }
      },
      "source": [
        "import matplotlib.pyplot as plt\n",
        "acc = history.history['accuracy']\n",
        "loss = history.history['loss']\n",
        "\n",
        "epochs = range(len(acc))\n",
        "\n",
        "plt.plot(epochs, acc, 'b', label='Training accuracy')\n",
        "plt.title('Training accuracy')\n",
        "\n",
        "plt.figure()\n",
        "\n",
        "plt.plot(epochs, loss, 'b', label='Training Loss')\n",
        "plt.title('Training loss')\n",
        "plt.legend()\n",
        "\n",
        "plt.show()"
      ],
      "execution_count": 7,
      "outputs": [
        {
          "output_type": "display_data",
          "data": {
            "image/png": "[encoded data removed]",
            "text/plain": [
              "<Figure size 432x288 with 1 Axes>"
            ]
          },
          "metadata": {
            "needs_background": "light"
          }
        },
        {
          "output_type": "display_data",
          "data": {
            "image/png": "[encoded data removed]",
            "text/plain": [
              "<Figure size 432x288 with 1 Axes>"
            ]
          },
          "metadata": {
            "needs_background": "light"
          }
        }
      ]
    },
    {
      "cell_type": "code",
      "metadata": {
        "id": "6Vc6PHgxa6Hm",
        "outputId": "eb3e1e5f-67d2-471a-8a06-de877c5220f4",
        "colab": {
          "base_uri": "https://localhost:8080/"
        }
      },
      "source": [
        "seed_text = \"Help me Obi Wan Kenobi, you're my only hope\"\n",
        "next_words = 100\n",
        "  \n",
        "for _ in range(next_words):\n",
        "\ttoken_list = tokenizer.texts_to_sequences([seed_text])[0]\n",
        "\ttoken_list = pad_sequences([token_list], maxlen=max_sequence_len-1, padding='pre')\n",
        "\tpredicted = model.predict_classes(token_list, verbose=0)\n",
        "  # predicted = np.argmax(model.predict(token_list), axis=-1)\n",
        "\toutput_word = \"\"\n",
        "\tfor word, index in tokenizer.word_index.items():\n",
        "\t\tif index == predicted:\n",
        "\t\t\toutput_word = word\n",
        "\t\t\tbreak\n",
        "\tseed_text += \" \" + output_word\n",
        "print(seed_text)"
      ],
      "execution_count": 20,
      "outputs": [
        {
          "output_type": "stream",
          "name": "stderr",
          "text": [
            "/usr/local/lib/python3.7/dist-packages/tensorflow/python/keras/engine/sequential.py:455: UserWarning: `model.predict_classes()` is deprecated and will be removed after 2021-01-01. Please use instead:* `np.argmax(model.predict(x), axis=-1)`,   if your model does multi-class classification   (e.g. if it uses a `softmax` last-layer activation).* `(model.predict(x) > 0.5).astype(\"int32\")`,   if your model does binary classification   (e.g. if it uses a `sigmoid` last-layer activation).\n",
            "  warnings.warn('`model.predict_classes()` is deprecated and '\n"
          ]
        },
        {
          "output_type": "stream",
          "name": "stdout",
          "text": [
            "Help me Obi Wan Kenobi, you're my only hope upon table of her heart ' still eyes bring her rage and quickly fiend play'st up truth days alone can live they women's ride kindness find it forgot me call he by thee say but green thee will see bright thine and alone to jump such heinous slow character by year another delight did stand shade behind a winds must thee doth catch me done this will see my sight were new drinks it better about about mother made some shame shines doth miss'd exceeds grow interest of ' shame behind good fired decease decease decease forth thee grace thee\n"
          ]
        }
      ]
    }
  ]
}